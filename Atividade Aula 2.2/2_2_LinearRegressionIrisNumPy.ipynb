{
 "cells": [
  {
   "cell_type": "markdown",
   "metadata": {
    "id": "5yQgzdjbf9RT"
   },
   "source": [
    "# Regressão Linear com NumPy"
   ]
  },
  {
   "cell_type": "markdown",
   "metadata": {
    "heading_collapsed": true,
    "id": "p5HfrYM3f9RU"
   },
   "source": [
    "## Objetivos deste experimento"
   ]
  },
  {
   "cell_type": "markdown",
   "metadata": {
    "hidden": true,
    "id": "IIYC2db7f9RW"
   },
   "source": [
    "Este exemplo utiliza regressão linear para estimar o comprimento das sépalas da íris a partir do seu comprimento das pétalas.\n",
    "Utiliza-se programação totalmente NumPy com:\n",
    "- o **cálculo do gradiente**,\n",
    "- a **função de perda** e\n",
    "- a atualização dos parâmetros são feitos de forma explícita.\n",
    "- A rede é criada com uma camada como uma classe"
   ]
  },
  {
   "cell_type": "markdown",
   "metadata": {
    "hidden": true,
    "id": "ImJOZIiNf9RW"
   },
   "source": [
    "![alt text](https://raw.githubusercontent.com/vcasadei/images/master/RegressaoLinear_Otimizacao.png)"
   ]
  },
  {
   "cell_type": "markdown",
   "metadata": {
    "heading_collapsed": true,
    "id": "EeTHWCuMf9RX"
   },
   "source": [
    "## Importação dos pacotes"
   ]
  },
  {
   "cell_type": "code",
   "execution_count": 1,
   "metadata": {
    "ExecuteTime": {
     "end_time": "2017-10-08T11:19:38.728936Z",
     "start_time": "2017-10-08T11:19:36.888541Z"
    },
    "hidden": true,
    "id": "5yPytaCLf9RY"
   },
   "outputs": [],
   "source": [
    "%matplotlib inline\n",
    "import matplotlib.pyplot as plt   # para plotting\n",
    "\n",
    "from sklearn.datasets import load_iris  # para carregar dataset\n",
    "\n",
    "import numpy as np  # processamento matricial\n",
    "\n",
    "np.random.seed(1234)"
   ]
  },
  {
   "cell_type": "markdown",
   "metadata": {
    "heading_collapsed": true,
    "id": "wDkSLSnmf9Rc"
   },
   "source": [
    "## Dataset"
   ]
  },
  {
   "cell_type": "markdown",
   "metadata": {
    "heading_collapsed": true,
    "hidden": true,
    "id": "ldcOnrBvf9Rd"
   },
   "source": [
    "### Leitura dos dados"
   ]
  },
  {
   "cell_type": "code",
   "execution_count": 2,
   "metadata": {
    "ExecuteTime": {
     "end_time": "2017-10-08T11:19:38.747769Z",
     "start_time": "2017-10-08T11:19:38.730907Z"
    },
    "colab": {
     "base_uri": "https://localhost:8080/"
    },
    "hidden": true,
    "id": "l3t1qaa0f9Re",
    "outputId": "80108ff3-a1e3-4c4d-bc90-e6502a0cfc33"
   },
   "outputs": [
    {
     "name": "stdout",
     "output_type": "stream",
     "text": [
      "x_train.shape: (50, 1) float64\n",
      "y_train.shape: (50, 1) float64\n",
      "x_train[:5]:\n",
      " [[7. ]\n",
      " [6.4]\n",
      " [6.9]\n",
      " [5.5]\n",
      " [6.5]]\n",
      "y_train[:5]:\n",
      " [[4.7]\n",
      " [4.5]\n",
      " [4.9]\n",
      " [4. ]\n",
      " [4.6]]\n"
     ]
    }
   ],
   "source": [
    "iris = load_iris()\n",
    "data = iris.data[iris.target==1,::2]  # comprimento das sépalas e pétalas, indices 0 e 2\n",
    "\n",
    "x_train = data[:,0:1]\n",
    "y_train = data[:,1:2]\n",
    "\n",
    "n_samples = x_train.shape[0]\n",
    "print('x_train.shape:',x_train.shape, x_train.dtype)\n",
    "print('y_train.shape:',y_train.shape, y_train.dtype)\n",
    "\n",
    "print('x_train[:5]:\\n', x_train[:5])\n",
    "print('y_train[:5]:\\n', y_train[:5])"
   ]
  },
  {
   "cell_type": "markdown",
   "metadata": {
    "hidden": true,
    "id": "aPQ-L6FVf9Rk"
   },
   "source": [
    "### Normalização dos dados"
   ]
  },
  {
   "cell_type": "code",
   "execution_count": 3,
   "metadata": {
    "ExecuteTime": {
     "end_time": "2017-10-08T11:19:38.756343Z",
     "start_time": "2017-10-08T11:19:38.750395Z"
    },
    "hidden": true,
    "id": "POM323GEf9Rl"
   },
   "outputs": [],
   "source": [
    "x_train -= x_train.min()\n",
    "x_train /= x_train.max()\n",
    "y_train -= y_train.min()\n",
    "y_train /= y_train.max()"
   ]
  },
  {
   "cell_type": "code",
   "execution_count": 4,
   "metadata": {
    "ExecuteTime": {
     "end_time": "2017-10-08T11:19:39.127199Z",
     "start_time": "2017-10-08T11:19:38.759104Z"
    },
    "colab": {
     "base_uri": "https://localhost:8080/",
     "height": 466
    },
    "hidden": true,
    "id": "dx5AO9Qxf9Rn",
    "outputId": "9a699a4c-5281-466d-a5e0-7e62af82a347"
   },
   "outputs": [
    {
     "data": {
      "text/plain": [
       "Text(0, 0.5, 'Comprimento petalas')"
      ]
     },
     "execution_count": 4,
     "metadata": {},
     "output_type": "execute_result"
    },
    {
     "data": {
      "image/png": "[encoded data removed]",
      "text/plain": [
       "<Figure size 640x480 with 1 Axes>"
      ]
     },
     "metadata": {},
     "output_type": "display_data"
    }
   ],
   "source": [
    "plt.scatter(x_train,y_train)\n",
    "plt.xlabel('Comprimento sepalas')\n",
    "plt.ylabel('Comprimento petalas')"
   ]
  },
  {
   "cell_type": "markdown",
   "metadata": {
    "heading_collapsed": true,
    "id": "poW81teqf9Rr"
   },
   "source": [
    "## Modelo da rede"
   ]
  },
  {
   "cell_type": "markdown",
   "metadata": {
    "hidden": true,
    "id": "QXFLlJ0_f9Rt"
   },
   "source": [
    "### Reta de ajuste"
   ]
  },
  {
   "cell_type": "markdown",
   "metadata": {
    "hidden": true,
    "id": "s7JuPXysf9Rt"
   },
   "source": [
    "A equação da reta no plano necessita de dois parâmetros, aqui denominados $w_0$ (*bias*) e inclinação $w_1$. Veja figura:\n",
    "\n",
    "![alt text](https://raw.githubusercontent.com/vcasadei/images/master/linhareta.png)\n",
    "\n",
    "A reta de ajuste será dada por:\n",
    "\n",
    "$$ \\hat{y} = w_0 + w_1 x $$\n",
    "\n",
    "onde\n",
    "* $w_1$ é o coeficiente angular da reta e\n",
    "* $w_0$ é a interseção do eixo vertical quando x é igual a zero, também denominado de *bias*.\n",
    "* $x$ é a variável de entrada (comprimento das sépalas) e\n",
    "* $\\hat{y}$ é a predição (comprimento estimado das pétalas)."
   ]
  },
  {
   "cell_type": "markdown",
   "metadata": {
    "hidden": true,
    "id": "hwin_xPff9Ru"
   },
   "source": [
    "### Linear Regression Model"
   ]
  },
  {
   "cell_type": "markdown",
   "metadata": {
    "hidden": true,
    "id": "c7ilOLnkf9Rw"
   },
   "source": [
    "![alt text](https://raw.githubusercontent.com/vcasadei/images/master/RegressaoLinearNeuronio.png)"
   ]
  },
  {
   "cell_type": "markdown",
   "metadata": {
    "hidden": true,
    "id": "H0CzMB91f9Rx"
   },
   "source": [
    "### Formulação matricial do neurônio"
   ]
  },
  {
   "cell_type": "markdown",
   "metadata": {
    "hidden": true,
    "id": "-wWz_wpYf9Ry"
   },
   "source": [
    "* $\\mathbf{w} = [w_0 \\ w_1]$ é vetor linha de parâmetros e\n",
    "* $\\mathbf{x} = [1 \\ x_0] $ é vetor linha de uma amostra (com *bias*).\n",
    "\n",
    "$$ \\hat{y} = 1 w_0 + x_0 w_1 $$\n",
    "\n",
    "$$ [\\hat{y}] = [1 \\ x_0] \\begin{bmatrix} w_0 \\\\ w_1 \\end{bmatrix} $$\n",
    "\n",
    "$$ \\mathbf{\\hat{y}} = \\mathbf{x} \\mathbf{w^T} $$"
   ]
  },
  {
   "cell_type": "markdown",
   "metadata": {
    "hidden": true,
    "id": "rQ1lc-dYf9Rz"
   },
   "source": [
    "### Fazendo o predict de várias amostras"
   ]
  },
  {
   "cell_type": "markdown",
   "metadata": {
    "hidden": true,
    "id": "fh068Clrf9R0"
   },
   "source": [
    "$$ \\begin{matrix}\n",
    "\\begin{bmatrix}\n",
    "\\hat{y}_0\\\\\n",
    "\\hat{y}_1\\\\\n",
    "\\\\\n",
    "\\hat{y}_{M-1}\n",
    "\\end{bmatrix} &=& \\begin{bmatrix}\n",
    "1 & x_0 \\\\\n",
    "1 & x_1\\\\\n",
    "\\\\\n",
    "1 & x_{M-1} \\\\\n",
    "\\end{bmatrix}\n",
    "&\n",
    "\\begin{bmatrix}\n",
    "w_0\\\\\n",
    "w_1\n",
    "\\end{bmatrix} \\\\\n",
    "(M,1) & & (M,2) & (2,1) \\\\\n",
    "\\end{matrix} $$"
   ]
  },
  {
   "cell_type": "markdown",
   "metadata": {
    "hidden": true,
    "id": "jjSchAsZf9R2"
   },
   "source": [
    "### Preenchendo x com coluna de 1's para bias"
   ]
  },
  {
   "cell_type": "code",
   "execution_count": 5,
   "metadata": {
    "ExecuteTime": {
     "end_time": "2017-10-08T11:19:39.135089Z",
     "start_time": "2017-10-08T11:19:39.129385Z"
    },
    "hidden": true,
    "id": "plZEY5-tf9R2"
   },
   "outputs": [],
   "source": [
    "x_train_bias = np.hstack([np.ones(shape=(n_samples,1)), x_train])"
   ]
  },
  {
   "cell_type": "code",
   "execution_count": 7,
   "metadata": {
    "colab": {
     "base_uri": "https://localhost:8080/"
    },
    "id": "tXYx3JdMf9R6",
    "outputId": "87014f65-01e1-4df6-b7c1-cb20db82ebd7"
   },
   "outputs": [
    {
     "data": {
      "text/plain": [
       "array([[1.        , 1.        ],\n",
       "       [1.        , 0.71428571],\n",
       "       [1.        , 0.95238095],\n",
       "       [1.        , 0.28571429],\n",
       "       [1.        , 0.76190476],\n",
       "       [1.        , 0.38095238],\n",
       "       [1.        , 0.66666667],\n",
       "       [1.        , 0.        ],\n",
       "       [1.        , 0.80952381],\n",
       "       [1.        , 0.14285714],\n",
       "       [1.        , 0.04761905],\n",
       "       [1.        , 0.47619048],\n",
       "       [1.        , 0.52380952],\n",
       "       [1.        , 0.57142857],\n",
       "       [1.        , 0.33333333],\n",
       "       [1.        , 0.85714286],\n",
       "       [1.        , 0.33333333],\n",
       "       [1.        , 0.42857143],\n",
       "       [1.        , 0.61904762],\n",
       "       [1.        , 0.33333333],\n",
       "       [1.        , 0.47619048],\n",
       "       [1.        , 0.57142857],\n",
       "       [1.        , 0.66666667],\n",
       "       [1.        , 0.57142857],\n",
       "       [1.        , 0.71428571],\n",
       "       [1.        , 0.80952381],\n",
       "       [1.        , 0.9047619 ],\n",
       "       [1.        , 0.85714286],\n",
       "       [1.        , 0.52380952],\n",
       "       [1.        , 0.38095238],\n",
       "       [1.        , 0.28571429],\n",
       "       [1.        , 0.28571429],\n",
       "       [1.        , 0.42857143],\n",
       "       [1.        , 0.52380952],\n",
       "       [1.        , 0.23809524],\n",
       "       [1.        , 0.52380952],\n",
       "       [1.        , 0.85714286],\n",
       "       [1.        , 0.66666667],\n",
       "       [1.        , 0.33333333],\n",
       "       [1.        , 0.28571429],\n",
       "       [1.        , 0.28571429],\n",
       "       [1.        , 0.57142857],\n",
       "       [1.        , 0.42857143],\n",
       "       [1.        , 0.04761905],\n",
       "       [1.        , 0.33333333],\n",
       "       [1.        , 0.38095238],\n",
       "       [1.        , 0.38095238],\n",
       "       [1.        , 0.61904762],\n",
       "       [1.        , 0.0952381 ],\n",
       "       [1.        , 0.38095238]])"
      ]
     },
     "execution_count": 7,
     "metadata": {},
     "output_type": "execute_result"
    }
   ],
   "source": [
    "x_train_bias"
   ]
  },
  {
   "cell_type": "markdown",
   "metadata": {
    "hidden": true,
    "id": "GOtS_8OSf9SC"
   },
   "source": [
    "### Classe com o modelo da rede"
   ]
  },
  {
   "cell_type": "code",
   "execution_count": 8,
   "metadata": {
    "ExecuteTime": {
     "end_time": "2017-10-08T11:19:39.143879Z",
     "start_time": "2017-10-08T11:19:39.137134Z"
    },
    "hidden": true,
    "id": "aKLVIQUtf9SD"
   },
   "outputs": [],
   "source": [
    "class Net():\n",
    "    def __init__(self, n_in, n_out):\n",
    "        self.w = np.random.uniform(-0.1,0.1,(n_out,n_in))\n",
    "\n",
    "    def forward(self, x_bias):\n",
    "        return x_bias.dot(self.w.T)"
   ]
  },
  {
   "cell_type": "markdown",
   "metadata": {
    "hidden": true,
    "id": "0j0hN9l_f9SH"
   },
   "source": [
    "### Criando a rede, instanciando o objeto model"
   ]
  },
  {
   "cell_type": "code",
   "execution_count": 9,
   "metadata": {
    "ExecuteTime": {
     "end_time": "2017-10-08T11:19:39.151717Z",
     "start_time": "2017-10-08T11:19:39.146858Z"
    },
    "hidden": true,
    "id": "5o5Zkqn5f9SI"
   },
   "outputs": [],
   "source": [
    "model = Net(2,1) # duas entradas (1 + x0) e uma saída y_pred"
   ]
  },
  {
   "cell_type": "code",
   "execution_count": 10,
   "metadata": {
    "colab": {
     "base_uri": "https://localhost:8080/"
    },
    "id": "nNXE-nHRF5XI",
    "outputId": "703d5337-511e-4497-ce43-a311cc76afa2"
   },
   "outputs": [
    {
     "data": {
      "text/plain": [
       "array([[-0.06169611,  0.02442175]])"
      ]
     },
     "execution_count": 10,
     "metadata": {},
     "output_type": "execute_result"
    }
   ],
   "source": [
    "model.w"
   ]
  },
  {
   "cell_type": "markdown",
   "metadata": {
    "hidden": true,
    "id": "F3yolUOGf9SL"
   },
   "source": [
    "### Testando o predict da rede (mesmo sem treiná-la)"
   ]
  },
  {
   "cell_type": "code",
   "execution_count": 11,
   "metadata": {
    "colab": {
     "base_uri": "https://localhost:8080/"
    },
    "id": "C-oYiF_yGR3l",
    "outputId": "9a95a5b1-7e8f-42cd-af14-3c62510eb1e9"
   },
   "outputs": [
    {
     "data": {
      "text/plain": [
       "array([[ 1.43270697, -0.3126519 ],\n",
       "       [-0.72058873,  0.88716294],\n",
       "       [ 0.85958841, -0.6365235 ],\n",
       "       [ 0.01569637, -2.24268495]])"
      ]
     },
     "execution_count": 11,
     "metadata": {},
     "output_type": "execute_result"
    }
   ],
   "source": [
    "np.random.randn(4,2)"
   ]
  },
  {
   "cell_type": "code",
   "execution_count": 12,
   "metadata": {
    "ExecuteTime": {
     "end_time": "2017-10-08T11:19:39.162189Z",
     "start_time": "2017-10-08T11:19:39.156018Z"
    },
    "colab": {
     "base_uri": "https://localhost:8080/"
    },
    "hidden": true,
    "id": "BzkEurfof9SN",
    "outputId": "b71dd08f-8831-40b6-fae9-24e9c25e7fb9"
   },
   "outputs": [
    {
     "data": {
      "text/plain": [
       "array([[-0.04672767],\n",
       "       [-0.10817898],\n",
       "       [ 0.02066301],\n",
       "       [-0.01795477]])"
      ]
     },
     "execution_count": 12,
     "metadata": {},
     "output_type": "execute_result"
    }
   ],
   "source": [
    "xin = np.random.randn(4,2) # 4 amostras, 2 entradas (1 + x0)\n",
    "ypred = model.forward(xin)\n",
    "ypred"
   ]
  },
  {
   "cell_type": "code",
   "execution_count": 13,
   "metadata": {
    "colab": {
     "base_uri": "https://localhost:8080/"
    },
    "id": "46iGntusGegv",
    "outputId": "1d02dc49-cbcc-48b1-ae67-15bac43bb554"
   },
   "outputs": [
    {
     "data": {
      "text/plain": [
       "array([[-0.03727436],\n",
       "       [-0.044252  ],\n",
       "       [-0.0384373 ],\n",
       "       [-0.05471847],\n",
       "       [-0.04308906],\n",
       "       [-0.05239258],\n",
       "       [-0.04541494],\n",
       "       [-0.06169611],\n",
       "       [-0.04192612],\n",
       "       [-0.05820729],\n",
       "       [-0.06053317],\n",
       "       [-0.0500667 ],\n",
       "       [-0.04890376],\n",
       "       [-0.04774082],\n",
       "       [-0.05355553],\n",
       "       [-0.04076318],\n",
       "       [-0.05355553],\n",
       "       [-0.05122964],\n",
       "       [-0.04657788],\n",
       "       [-0.05355553],\n",
       "       [-0.0500667 ],\n",
       "       [-0.04774082],\n",
       "       [-0.04541494],\n",
       "       [-0.04774082],\n",
       "       [-0.044252  ],\n",
       "       [-0.04192612],\n",
       "       [-0.03960024],\n",
       "       [-0.04076318],\n",
       "       [-0.04890376],\n",
       "       [-0.05239258],\n",
       "       [-0.05471847],\n",
       "       [-0.05471847],\n",
       "       [-0.05122964],\n",
       "       [-0.04890376],\n",
       "       [-0.05588141],\n",
       "       [-0.04890376],\n",
       "       [-0.04076318],\n",
       "       [-0.04541494],\n",
       "       [-0.05355553],\n",
       "       [-0.05471847],\n",
       "       [-0.05471847],\n",
       "       [-0.04774082],\n",
       "       [-0.05122964],\n",
       "       [-0.06053317],\n",
       "       [-0.05355553],\n",
       "       [-0.05239258],\n",
       "       [-0.05239258],\n",
       "       [-0.04657788],\n",
       "       [-0.05937023],\n",
       "       [-0.05239258]])"
      ]
     },
     "execution_count": 13,
     "metadata": {},
     "output_type": "execute_result"
    }
   ],
   "source": [
    "ypred = model.forward(x_train_bias)\n",
    "ypred"
   ]
  },
  {
   "cell_type": "markdown",
   "metadata": {
    "heading_collapsed": true,
    "id": "edoSiy--f9SS"
   },
   "source": [
    "## Treinamento via gradiente descendente"
   ]
  },
  {
   "cell_type": "markdown",
   "metadata": {
    "hidden": true,
    "id": "SnkXXFref9ST"
   },
   "source": [
    "Função de perda:\n",
    "$$ J(\\hat{y_i},y_i) = \\frac{1}{M} \\sum_{i=0}^{M-1} (\\hat{y_i} - y_i)^2 $$"
   ]
  },
  {
   "cell_type": "markdown",
   "metadata": {
    "ExecuteTime": {
     "end_time": "2017-10-05T14:05:06.244776",
     "start_time": "2017-10-05T14:05:06.240743"
    },
    "hidden": true,
    "id": "6W5QcPwUf9SU"
   },
   "source": [
    "Gradiente:\n",
    "$$  \\mathbf{\\nabla{J_w}} = \\frac{2}{M}\\mathbf{x^T}(\\mathbf{x w^T} - \\mathbf{y}) $$"
   ]
  },
  {
   "cell_type": "markdown",
   "metadata": {
    "ExecuteTime": {
     "end_time": "2017-10-05T14:06:17.929718",
     "start_time": "2017-10-05T14:06:17.925519"
    },
    "hidden": true,
    "id": "6OoQuuvAf9SU"
   },
   "source": [
    "Atualização dos parâmetros pelo gradiente descendente:\n",
    "$$ \\mathbf{w} = \\mathbf{w} − \\eta (\\mathbf{\\nabla J_w})^T $$"
   ]
  },
  {
   "cell_type": "markdown",
   "metadata": {
    "hidden": true,
    "id": "YM0fEnAdf9SW"
   },
   "source": [
    "### Laço de treinamento"
   ]
  },
  {
   "cell_type": "code",
   "execution_count": 14,
   "metadata": {
    "ExecuteTime": {
     "end_time": "2017-10-08T11:19:39.183784Z",
     "start_time": "2017-10-08T11:19:39.165347Z"
    },
    "colab": {
     "base_uri": "https://localhost:8080/"
    },
    "hidden": true,
    "id": "BiCGgqp6f9SX",
    "outputId": "518b67c2-cb2d-4749-ba50-71a6172c8470",
    "scrolled": false
   },
   "outputs": [
    {
     "name": "stdout",
     "output_type": "stream",
     "text": [
      "Epoch[1/100], loss: 0.469163\n",
      "Epoch[2/100], loss: 0.058070\n",
      "Epoch[3/100], loss: 0.030543\n",
      "Epoch[4/100], loss: 0.028105\n",
      "Epoch[5/100], loss: 0.027364\n",
      "Epoch[6/100], loss: 0.026787\n",
      "Epoch[7/100], loss: 0.026269\n",
      "Epoch[8/100], loss: 0.025799\n",
      "Epoch[9/100], loss: 0.025373\n",
      "Epoch[10/100], loss: 0.024986\n",
      "Epoch[11/100], loss: 0.024634\n",
      "Epoch[12/100], loss: 0.024315\n",
      "Epoch[13/100], loss: 0.024025\n",
      "Epoch[14/100], loss: 0.023762\n",
      "Epoch[15/100], loss: 0.023524\n",
      "Epoch[16/100], loss: 0.023307\n",
      "Epoch[17/100], loss: 0.023110\n",
      "Epoch[18/100], loss: 0.022931\n",
      "Epoch[19/100], loss: 0.022769\n",
      "Epoch[20/100], loss: 0.022622\n",
      "Epoch[21/100], loss: 0.022488\n",
      "Epoch[22/100], loss: 0.022366\n",
      "Epoch[23/100], loss: 0.022256\n",
      "Epoch[24/100], loss: 0.022156\n",
      "Epoch[25/100], loss: 0.022065\n",
      "Epoch[26/100], loss: 0.021983\n",
      "Epoch[27/100], loss: 0.021908\n",
      "Epoch[28/100], loss: 0.021840\n",
      "Epoch[29/100], loss: 0.021778\n",
      "Epoch[30/100], loss: 0.021722\n",
      "Epoch[31/100], loss: 0.021671\n",
      "Epoch[32/100], loss: 0.021625\n",
      "Epoch[33/100], loss: 0.021583\n",
      "Epoch[34/100], loss: 0.021545\n",
      "Epoch[35/100], loss: 0.021510\n",
      "Epoch[36/100], loss: 0.021479\n",
      "Epoch[37/100], loss: 0.021450\n",
      "Epoch[38/100], loss: 0.021425\n",
      "Epoch[39/100], loss: 0.021401\n",
      "Epoch[40/100], loss: 0.021380\n",
      "Epoch[41/100], loss: 0.021360\n",
      "Epoch[42/100], loss: 0.021343\n",
      "Epoch[43/100], loss: 0.021327\n",
      "Epoch[44/100], loss: 0.021312\n",
      "Epoch[45/100], loss: 0.021299\n",
      "Epoch[46/100], loss: 0.021287\n",
      "Epoch[47/100], loss: 0.021276\n",
      "Epoch[48/100], loss: 0.021267\n",
      "Epoch[49/100], loss: 0.021258\n",
      "Epoch[50/100], loss: 0.021249\n",
      "Epoch[51/100], loss: 0.021242\n",
      "Epoch[52/100], loss: 0.021235\n",
      "Epoch[53/100], loss: 0.021229\n",
      "Epoch[54/100], loss: 0.021224\n",
      "Epoch[55/100], loss: 0.021219\n",
      "Epoch[56/100], loss: 0.021214\n",
      "Epoch[57/100], loss: 0.021210\n",
      "Epoch[58/100], loss: 0.021206\n",
      "Epoch[59/100], loss: 0.021203\n",
      "Epoch[60/100], loss: 0.021200\n",
      "Epoch[61/100], loss: 0.021197\n",
      "Epoch[62/100], loss: 0.021195\n",
      "Epoch[63/100], loss: 0.021192\n",
      "Epoch[64/100], loss: 0.021190\n",
      "Epoch[65/100], loss: 0.021188\n",
      "Epoch[66/100], loss: 0.021186\n",
      "Epoch[67/100], loss: 0.021185\n",
      "Epoch[68/100], loss: 0.021183\n",
      "Epoch[69/100], loss: 0.021182\n",
      "Epoch[70/100], loss: 0.021181\n",
      "Epoch[71/100], loss: 0.021180\n",
      "Epoch[72/100], loss: 0.021179\n",
      "Epoch[73/100], loss: 0.021178\n",
      "Epoch[74/100], loss: 0.021177\n",
      "Epoch[75/100], loss: 0.021177\n",
      "Epoch[76/100], loss: 0.021176\n",
      "Epoch[77/100], loss: 0.021175\n",
      "Epoch[78/100], loss: 0.021175\n",
      "Epoch[79/100], loss: 0.021174\n",
      "Epoch[80/100], loss: 0.021174\n",
      "Epoch[81/100], loss: 0.021173\n",
      "Epoch[82/100], loss: 0.021173\n",
      "Epoch[83/100], loss: 0.021173\n",
      "Epoch[84/100], loss: 0.021172\n",
      "Epoch[85/100], loss: 0.021172\n",
      "Epoch[86/100], loss: 0.021172\n",
      "Epoch[87/100], loss: 0.021172\n",
      "Epoch[88/100], loss: 0.021171\n",
      "Epoch[89/100], loss: 0.021171\n",
      "Epoch[90/100], loss: 0.021171\n",
      "Epoch[91/100], loss: 0.021171\n",
      "Epoch[92/100], loss: 0.021171\n",
      "Epoch[93/100], loss: 0.021171\n",
      "Epoch[94/100], loss: 0.021171\n",
      "Epoch[95/100], loss: 0.021170\n",
      "Epoch[96/100], loss: 0.021170\n",
      "Epoch[97/100], loss: 0.021170\n",
      "Epoch[98/100], loss: 0.021170\n",
      "Epoch[99/100], loss: 0.021170\n",
      "Epoch[100/100], loss: 0.021170\n",
      "[np.float64(0.46916299392848965), np.float64(0.05806978503728478), np.float64(0.03054287120865803), np.float64(0.028105420739894495), np.float64(0.027363927019010567), np.float64(0.026786724330353836), np.float64(0.026268944171237815), np.float64(0.025799259233654476), np.float64(0.02537285807398961), np.float64(0.024985729416175287), np.float64(0.02463425470922308), np.float64(0.02431515018376305), np.float64(0.024025434598693884), np.float64(0.023762401286205326), np.float64(0.023523592858036433), np.float64(0.023306778246893093), np.float64(0.023109931862677464), np.float64(0.022931214668414426), np.float64(0.02276895699905198), np.float64(0.02262164296261862), np.float64(0.022487896278005435), np.float64(0.022366467417062434), np.float64(0.022256221930884158), np.float64(0.022156129851222874), np.float64(0.02206525606801219), np.float64(0.021982751593103016), np.float64(0.021907845628593346), np.float64(0.02183983836565032), np.float64(0.021778094446547536), np.float64(0.021722037028836648), np.float64(0.02167114239619789), np.float64(0.021624935065621367), np.float64(0.02158298334520787), np.float64(0.021544895301088166), np.float64(0.021510315095781572), np.float64(0.02147891966378488), np.float64(0.021450415693333596), np.float64(0.021424536886137276), np.float64(0.021401041469488243), np.float64(0.021379709937500553), np.float64(0.021360343000376657), np.float64(0.021342759722542806), np.float64(0.021326795832258844), np.float64(0.02131230218690975), np.float64(0.02129914337964105), np.float64(0.021287196474320532), np.float64(0.02127634985700767), np.float64(0.021266502193200556), np.float64(0.021257561481118573), np.float64(0.021249444192175858), np.float64(0.021242074490615707), np.float64(0.021235383525015125), np.float64(0.021229308785040542), np.float64(0.021223793517445144), np.float64(0.02121878619585178), np.float64(0.02121424003936786), np.float64(0.021210112575534956), np.float64(0.021206365243529965), np.float64(0.021202963033910654), np.float64(0.021199874161540046), np.float64(0.021197069768633812), np.float64(0.02119452365515649), np.float64(0.021192212034047708), np.float64(0.021190113308991575), np.float64(0.021188207872653207), np.float64(0.02118647792349718), np.float64(0.021184907299476762), np.float64(0.021183481327039975), np.float64(0.02118218668404202), np.float64(0.021181011275283105), np.float64(0.021179944119509107), np.float64(0.021178975246819224), np.float64(0.02117809560552215), np.float64(0.02117729697757074), np.float64(0.021176571901784836), np.float64(0.021175913604145277), np.float64(0.0211753159345076), np.float64(0.021174773309144343), np.float64(0.021174280658579056), np.float64(0.021173833380224775), np.float64(0.02117342729538429), np.float64(0.021173058610210765), np.float64(0.02117272388026364), np.float64(0.021172419978329023), np.float64(0.021172144065203655), np.float64(0.02117189356316969), np.float64(0.021171666131912334), np.float64(0.0211714596466555), np.float64(0.021171272178311055), np.float64(0.021171101975456342), np.float64(0.021170947447971527), np.float64(0.021170807152183856), np.float64(0.0211706797773802), np.float64(0.0211705641335617), np.float64(0.021170459140326194), np.float64(0.021170363816774583), np.float64(0.02117027727234675), np.float64(0.021170198698501553), np.float64(0.021170127361162992), np.float64(0.021170062593862105)]\n"
     ]
    }
   ],
   "source": [
    "num_epochs = 100\n",
    "learning_rate = 0.5\n",
    "losses = []\n",
    "for epoch in range(num_epochs):\n",
    "\n",
    "    # forward - predict\n",
    "    y_pred = model.forward(x_train_bias)\n",
    "\n",
    "    #loss cálculo da função de perda\n",
    "    loss = np.square(y_pred - y_train).mean()\n",
    "    losses.append(loss)\n",
    "\n",
    "    # cálculo do gradiente pelas derivadas parciais\n",
    "    w_grad = (2.0/n_samples) * (x_train_bias.T).dot(x_train_bias.dot(model.w.T) - y_train)\n",
    "\n",
    "    # gradiente descendente\n",
    "    model.w = model.w - learning_rate * w_grad.T\n",
    "\n",
    "    # verbose\n",
    "    if (epoch+1) % 1 == 0:\n",
    "        print('Epoch[{}/{}], loss: {:.6f}'\n",
    "              .format(epoch+1, num_epochs, loss))\n",
    "print(losses)"
   ]
  },
  {
   "cell_type": "markdown",
   "metadata": {
    "heading_collapsed": true,
    "id": "1QGlDZABf9Sd"
   },
   "source": [
    "## Avaliação"
   ]
  },
  {
   "cell_type": "markdown",
   "metadata": {
    "hidden": true,
    "id": "6TIimlCmf9Si"
   },
   "source": [
    "### Predict"
   ]
  },
  {
   "cell_type": "code",
   "execution_count": 15,
   "metadata": {
    "ExecuteTime": {
     "end_time": "2017-10-08T11:19:39.408412Z",
     "start_time": "2017-10-08T11:19:39.186021Z"
    },
    "colab": {
     "base_uri": "https://localhost:8080/",
     "height": 447
    },
    "hidden": true,
    "id": "ToXwbrlsf9Sk",
    "outputId": "00b79c42-0a41-444d-b607-564dc50738bd"
   },
   "outputs": [
    {
     "data": {
      "text/plain": [
       "[<matplotlib.lines.Line2D at 0x12bff22d0>]"
      ]
     },
     "execution_count": 15,
     "metadata": {},
     "output_type": "execute_result"
    },
    {
     "data": {
      "image/png": "[encoded data removed]",
      "text/plain": [
       "<Figure size 640x480 with 1 Axes>"
      ]
     },
     "metadata": {},
     "output_type": "display_data"
    }
   ],
   "source": [
    "y_pred = model.forward(x_train_bias)\n",
    "plt.plot(x_train, y_train, 'ro', label='Original data')\n",
    "plt.plot(x_train, y_pred, 'kx-', label='Fitting Line')"
   ]
  },
  {
   "cell_type": "markdown",
   "metadata": {
    "hidden": true,
    "id": "kQ1hGdItf9So"
   },
   "source": [
    "### Parâmetros treinados"
   ]
  },
  {
   "cell_type": "code",
   "execution_count": 16,
   "metadata": {
    "ExecuteTime": {
     "end_time": "2017-10-08T11:19:39.417569Z",
     "start_time": "2017-10-08T11:19:39.411060Z"
    },
    "colab": {
     "base_uri": "https://localhost:8080/"
    },
    "hidden": true,
    "id": "IcEOxTg9f9Sp",
    "outputId": "797e8d96-e261-4e51-f98f-4fc812524aa7"
   },
   "outputs": [
    {
     "name": "stdout",
     "output_type": "stream",
     "text": [
      "[[0.26295353 0.68335641]]\n"
     ]
    }
   ],
   "source": [
    "print(model.w)"
   ]
  },
  {
   "cell_type": "markdown",
   "metadata": {
    "hidden": true,
    "id": "73n0qSOMf9Sr"
   },
   "source": [
    "### Avaliação do modelo"
   ]
  },
  {
   "cell_type": "code",
   "execution_count": 17,
   "metadata": {
    "colab": {
     "base_uri": "https://localhost:8080/"
    },
    "hidden": true,
    "id": "dI2TE8W6f9Ss",
    "outputId": "2522557c-4c04-4e33-df32-b11e5bfa7d73"
   },
   "outputs": [
    {
     "data": {
      "text/plain": [
       "np.float64(0.02117000379151052)"
      ]
     },
     "execution_count": 17,
     "metadata": {},
     "output_type": "execute_result"
    }
   ],
   "source": [
    "loss = np.square(y_pred - y_train).mean()\n",
    "loss"
   ]
  },
  {
   "cell_type": "markdown",
   "metadata": {
    "hidden": true,
    "id": "cv6q3ElSf9Sv"
   },
   "source": [
    "### Valor ótimo, solução analítica"
   ]
  },
  {
   "cell_type": "markdown",
   "metadata": {
    "hidden": true,
    "id": "qYgHOaNmf9Sv"
   },
   "source": [
    "$$  \\mathbf{w} =(\\mathbf{x^T} \\mathbf{x})^{−1}\\mathbf{x^T} \\mathbf{y} $$"
   ]
  },
  {
   "cell_type": "code",
   "execution_count": 18,
   "metadata": {
    "ExecuteTime": {
     "end_time": "2017-10-08T11:19:39.432480Z",
     "start_time": "2017-10-08T11:19:39.420006Z"
    },
    "colab": {
     "base_uri": "https://localhost:8080/"
    },
    "hidden": true,
    "id": "OmrggYvmf9Sw",
    "outputId": "1ecfa29f-090b-4581-9a2a-1c0f9616f39e"
   },
   "outputs": [
    {
     "name": "stdout",
     "output_type": "stream",
     "text": [
      "[[0.26134159 0.68646976]]\n"
     ]
    }
   ],
   "source": [
    "x = x_train_bias\n",
    "y = y_train\n",
    "w_opt = (np.linalg.inv((x.T).dot(x)).dot(x.T)).dot(y)\n",
    "print(w_opt.T)"
   ]
  },
  {
   "cell_type": "code",
   "execution_count": 21,
   "metadata": {
    "id": "rt2edW9FNlww"
   },
   "outputs": [
    {
     "data": {
      "text/plain": [
       "[[0.26304279, 0.683184]]"
      ]
     },
     "execution_count": 21,
     "metadata": {},
     "output_type": "execute_result"
    }
   ],
   "source": [
    "[[0.26304279, 0.683184  ]]"
   ]
  },
  {
   "cell_type": "markdown",
   "metadata": {
    "heading_collapsed": true,
    "id": "2eMOcW8Ff9Sz"
   },
   "source": [
    "# Exercícios"
   ]
  },
  {
   "cell_type": "markdown",
   "metadata": {
    "hidden": true,
    "id": "tCKeOB1-f9S1"
   },
   "source": [
    "## Questões"
   ]
  },
  {
   "cell_type": "markdown",
   "metadata": {
    "hidden": true,
    "id": "c-KyP13vf9S2"
   },
   "source": [
    "1. Quantos parâmetros são treinados nesse modelo?\n",
    "\n",
    "    Resposta: 2 parametros.\n",
    "\n",
    "2. Qual é o número de atributos de entrada para a rede?\n",
    "\n",
    "    Resposta: 2 atributos (comprimento das sépalas e bias).\n",
    "\n",
    "3. Qual é o número de saídas da rede?\n",
    "\n",
    "    Resposta: 1 saída (comprimento das pétalas).\n",
    "\n",
    "4. Suponha que eu tenha agora 5 mil amostras para fazer a predição. Qual é o shape da matriz de entrada?\n",
    "\n",
    "    Resposta: [5000,2]\n",
    "\n",
    "5. Qual é o shape do matriz de saída?\n",
    "\n",
    "    Resposta: [5000,1]"
   ]
  },
  {
   "cell_type": "markdown",
   "metadata": {
    "hidden": true,
    "id": "oaj0t2gpf9S3"
   },
   "source": [
    "## Atividades"
   ]
  },
  {
   "cell_type": "markdown",
   "metadata": {
    "hidden": true,
    "id": "pR_fNYurf9S3"
   },
   "source": [
    "1. Modifique o laço do treinamento via gradiente descendente para guardar em uma lista, o valor da perda no final\n",
    "   de cada época. Após o treinamento, plote o valor da perda em função da época.\n",
    "2. Calcule o valor da perda (MSE) da rede com os parâmetros inicializados, sem serem treinados.\n",
    "3. Coloque os valores dos pesos da solução ótima analítica no modelo da rede e calcule o valor da perda (MSE) e\n",
    "   compare com o valor da perda obtida pelo método da otimização via gradiente descendente."
   ]
  },
  {
   "cell_type": "code",
   "execution_count": 31,
   "metadata": {},
   "outputs": [
    {
     "name": "stdout",
     "output_type": "stream",
     "text": [
      "Epoch[20/100], loss: 0.022303\n",
      "Epoch[40/100], loss: 0.021334\n",
      "Epoch[60/100], loss: 0.021193\n",
      "Epoch[80/100], loss: 0.021173\n",
      "Epoch[100/100], loss: 0.021170\n",
      "[0.4199811415857886, 0.05317519755316219, 0.028692912735087624, 0.02659506609008078, 0.026003713790850348, 0.025552504538345334, 0.025148440745447722, 0.02478195517849226, 0.024449246051338212, 0.024147180375181772, 0.023872934493523474, 0.02362394615978877, 0.023397889194090592, 0.02319265165920449, 0.02300631612381683, 0.022837141748536044, 0.022683548022078445, 0.022544099995342855, 0.02241749487540118, 0.022302549854157996, 0.022198191057968043, 0.02210344351497378, 0.022017422046432596, 0.021939322996936076, 0.021868416726260866, 0.021804040792706272, 0.02174559376423386, 0.021692529599589835, 0.021644352546915577, 0.021600612512186902, 0.021560900854211446, 0.021524846566899097, 0.02149211281313831, 0.021462393777895997, 0.02143541181114119, 0.021410914833900122, 0.021388673983208883, 0.021368481473961632, 0.021350148657678633, 0.021333504260058155, 0.021318392780846674, 0.021304673041078016, 0.021292216864109134, 0.021280907878130074, 0.021270640428960562, 0.021261318592975992, 0.021252855280941178, 0.021245171424379303, 0.02123819523687488, 0.02123186154340923, 0.021226111171463023, 0.02122089039819717, 0.021216150448547216, 0.021211847039542465, 0.021207939966592346, 0.021204392727875172, 0.02120117218331988, 0.02119824824499501, 0.02119559359601224, 0.02119318343531843, 0.021190995245991842, 0.02118900858487778, 0.02118720489159852, 0.02118556731515298, 0.0211840805564863, 0.021182730725558416, 0.021181505211576426, 0.021180392565178247, 0.021179382391467005, 0.02117846525289668, 0.021177632581101915, 0.021176876596848016, 0.021176190237353527, 0.02117556709030615, 0.02117500133395576, 0.02117448768272472, 0.021174021337827368, 0.021173597942437374, 0.021173213540984104, 0.021172864542197706, 0.021172547685557663, 0.021172260010831407, 0.021171998830418374, 0.021171761704241013, 0.021171546416948482, 0.021171350957219635, 0.021171173498972337, 0.021171012384303238, 0.02117086610799885, 0.021170733303473056, 0.021170612729999854, 0.021170503261121767, 0.021170403874126026, 0.021170313640489803, 0.021170231717205522, 0.021170157338905052, 0.02117008981070926, 0.0211700285017361, 0.02116997283920662, 0.021169922303093728]\n"
     ]
    },
    {
     "data": {
      "text/plain": [
       "[<matplotlib.lines.Line2D at 0x12c78ab50>]"
      ]
     },
     "execution_count": 31,
     "metadata": {},
     "output_type": "execute_result"
    },
    {
     "data": {
      "image/png": "[encoded data removed]",
      "text/plain": [
       "<Figure size 640x480 with 1 Axes>"
      ]
     },
     "metadata": {},
     "output_type": "display_data"
    }
   ],
   "source": [
    "#Atividade 1:\n",
    "model2=  Net(2, 1)\n",
    "num_epochs = 100\n",
    "learning_rate = 0.5\n",
    "losses = []\n",
    "for epoch in range(num_epochs):\n",
    "\n",
    "    # forward - predict\n",
    "    y_pred = model2.forward(x_train_bias)\n",
    "\n",
    "    #loss cálculo da função de perda\n",
    "    loss = np.square(y_pred - y_train).mean()\n",
    "    losses.append(loss)\n",
    "\n",
    "    # cálculo do gradiente pelas derivadas parciais\n",
    "    w_grad = (2.0/n_samples) * (x_train_bias.T).dot(x_train_bias.dot(model2.w.T) - y_train)\n",
    "\n",
    "    # gradiente descendente\n",
    "    model2.w = model2.w - learning_rate * w_grad.T\n",
    "\n",
    "    # verbose\n",
    "    if (epoch+1) % 20 == 0:\n",
    "        print('Epoch[{}/{}], loss: {:.6f}'\n",
    "              .format(epoch+1, num_epochs, loss))\n",
    "        \n",
    "print([float(loss) for loss in losses])\n",
    "\n",
    "#plotar o valor da perda\n",
    "plt.title('Loss during training')\n",
    "plt.xlabel('Epochs')\n",
    "plt.ylabel('Loss')\n",
    "plt.plot(range(num_epochs), [float(loss) for loss in losses])"
   ]
  },
  {
   "cell_type": "code",
   "execution_count": 40,
   "metadata": {
    "colab": {
     "base_uri": "https://localhost:8080/"
    },
    "id": "JqA2XBzVQnTR",
    "outputId": "fb6edba9-191e-4d1d-975c-d66564f5b727"
   },
   "outputs": [
    {
     "name": "stdout",
     "output_type": "stream",
     "text": [
      "[[-0.09052894  0.03497619]]\n",
      "0.4995974932570344\n"
     ]
    }
   ],
   "source": [
    "# Atividade 2\n",
    "model3 = Net(2,1)\n",
    "print(model3.w)\n",
    "y_pred = model3.forward(x_train_bias)\n",
    "loss = np.square(y_pred - y_train).mean()\n",
    "print(loss)"
   ]
  },
  {
   "cell_type": "code",
   "execution_count": 46,
   "metadata": {
    "colab": {
     "base_uri": "https://localhost:8080/"
    },
    "id": "oYV-Rh1kQ5Cg",
    "outputId": "83abdb60-7c8d-43e5-f32c-b129752a8c31"
   },
   "outputs": [
    {
     "name": "stdout",
     "output_type": "stream",
     "text": [
      "Perda otima\n",
      "0.02116942411909716\n",
      "Perda Treinamento\n",
      "0.02116942415600105\n",
      "Diferença entre perda otima e perda de treinamento\n",
      "-3.69038931358201e-11\n",
      "Diferença entre perda otima e perda de treinamento em porcentagem\n",
      "-1.7432639134726727e-07\n"
     ]
    }
   ],
   "source": [
    "# Atividade 3\n",
    "\n",
    "x = x_train_bias\n",
    "y = y_train\n",
    "w_opt = (np.linalg.inv((x.T).dot(x)).dot(x.T)).dot(y)\n",
    "\n",
    "\n",
    "model4 = Net(2,1)\n",
    "model4.w = w_opt.T\n",
    "y_pred_opt = model4.forward(x_train_bias)\n",
    "optimal_loss = np.square(y_pred_opt - y_train).mean()\n",
    "print(\"Perda otima\")\n",
    "print(optimal_loss)\n",
    "\n",
    "y_pred_train = model.forward(x_train_bias)\n",
    "loss_train = np.square(y_pred_train - y_train).mean()\n",
    "print(\"Perda Treinamento\")\n",
    "print(loss_train)\n",
    "\n",
    "print(\"Diferença entre perda otima e perda de treinamento\")\n",
    "print(optimal_loss - loss_train)\n",
    "print(\"Diferença entre perda otima e perda de treinamento em porcentagem\")\n",
    "print((optimal_loss - loss_train) / optimal_loss * 100)"
   ]
  },
  {
   "cell_type": "markdown",
   "metadata": {
    "collapsed": true,
    "id": "tgmMhSm2f9S4"
   },
   "source": [
    "# Aprendizados"
   ]
  },
  {
   "cell_type": "markdown",
   "metadata": {},
   "source": [
    "A partir dessa atividade, foi possível entender como funciona a implementação real de um modelo de regressão linear com NumPy."
   ]
  }
 ],
 "metadata": {
  "accelerator": "TPU",
  "colab": {
   "gpuType": "V28",
   "provenance": []
  },
  "kernelspec": {
   "display_name": "Python 3",
   "language": "python",
   "name": "python3"
  },
  "language_info": {
   "codemirror_mode": {
    "name": "ipython",
    "version": 3
   },
   "file_extension": ".py",
   "mimetype": "text/x-python",
   "name": "python",
   "nbconvert_exporter": "python",
   "pygments_lexer": "ipython3",
   "version": "3.11.10"
  }
 },
 "nbformat": 4,
 "nbformat_minor": 0
}
