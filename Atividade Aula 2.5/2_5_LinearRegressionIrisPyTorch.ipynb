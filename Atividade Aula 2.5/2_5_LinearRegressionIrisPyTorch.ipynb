{
 "cells": [
  {
   "cell_type": "markdown",
   "metadata": {
    "id": "4PHBzchPHif1"
   },
   "source": [
    "# Regressão Linear com PyTorch"
   ]
  },
  {
   "cell_type": "markdown",
   "metadata": {
    "id": "GujG54RVHif3"
   },
   "source": [
    "## Objetivo"
   ]
  },
  {
   "cell_type": "markdown",
   "metadata": {
    "id": "GGxcJJDOHif4"
   },
   "source": [
    "Este exemplo utiliza regressão linear para estimar o comprimento das sépalas da íris a partir do seu comprimento das pétalas.\n",
    "Utiliza-se\n",
    "- o cálculo do gradiente automático do PyTorch, porém\n",
    "- a função de perda e\n",
    "- atualização dos parâmetros é feita de forma explícita.\n",
    "- A rede é criada com uma camada nn.Linear()"
   ]
  },
  {
   "cell_type": "markdown",
   "metadata": {
    "id": "6Q1aL4eOHif5"
   },
   "source": [
    "![alt text](https://raw.githubusercontent.com/vcasadei/images/master/RegressaoLinear_Otimizacao.png)"
   ]
  },
  {
   "cell_type": "markdown",
   "metadata": {
    "id": "D-OH95H9Hif6"
   },
   "source": [
    "## Importação dos pacotes"
   ]
  },
  {
   "cell_type": "code",
   "execution_count": 1,
   "metadata": {
    "ExecuteTime": {
     "end_time": "2017-11-23T23:50:37.321471Z",
     "start_time": "2017-11-23T23:50:35.620908Z"
    },
    "colab": {
     "base_uri": "https://localhost:8080/"
    },
    "id": "Rwd6UgfSHif8",
    "outputId": "e1002fa8-b6f8-44e5-c5c2-8c0e2dd895f3"
   },
   "outputs": [
    {
     "data": {
      "text/plain": [
       "<torch._C.Generator at 0x149c1b7f0>"
      ]
     },
     "execution_count": 1,
     "metadata": {},
     "output_type": "execute_result"
    }
   ],
   "source": [
    "%matplotlib inline\n",
    "import matplotlib.pyplot as plt\n",
    "\n",
    "import numpy as np\n",
    "from sklearn.datasets import load_iris\n",
    "\n",
    "import torch\n",
    "from torch import nn, optim\n",
    "from torch.autograd import Variable\n",
    "\n",
    "torch.manual_seed(1234)"
   ]
  },
  {
   "cell_type": "markdown",
   "metadata": {
    "id": "tM6s6TDZHigH"
   },
   "source": [
    "## Leitura dos dados"
   ]
  },
  {
   "cell_type": "code",
   "execution_count": 28,
   "metadata": {
    "ExecuteTime": {
     "end_time": "2017-11-23T23:50:37.352459Z",
     "start_time": "2017-11-23T23:50:37.324344Z"
    },
    "colab": {
     "base_uri": "https://localhost:8080/"
    },
    "id": "e4YFUL0MHigI",
    "outputId": "38cbc7a7-b442-4915-b3f6-90fbe870b97c"
   },
   "outputs": [
    {
     "name": "stdout",
     "output_type": "stream",
     "text": [
      "x_train.shape: (50, 1) float32\n",
      "y_train.shape: (50, 1) float32\n",
      "x_train[:5]:\n",
      " [[7. ]\n",
      " [6.4]\n",
      " [6.9]\n",
      " [5.5]\n",
      " [6.5]]\n",
      "y_train[:5]:\n",
      " [[4.7]\n",
      " [4.5]\n",
      " [4.9]\n",
      " [4. ]\n",
      " [4.6]]\n"
     ]
    }
   ],
   "source": [
    "iris = load_iris()\n",
    "data = iris.data[iris.target==1,::2]  # comprimento das sépalas e pétalas, indices 0 e 2\n",
    "\n",
    "x_train = data[:,0:1].astype(np.float32)\n",
    "y_train = data[:,1:2].astype(np.float32)\n",
    "\n",
    "n_samples = x_train.shape[0]\n",
    "print('x_train.shape:',x_train.shape, x_train.dtype)\n",
    "print('y_train.shape:',y_train.shape, y_train.dtype)\n",
    "\n",
    "print('x_train[:5]:\\n', x_train[:5])\n",
    "print('y_train[:5]:\\n', y_train[:5])"
   ]
  },
  {
   "cell_type": "markdown",
   "metadata": {
    "id": "KiBZegbaHigL"
   },
   "source": [
    "### Normalização dos dados"
   ]
  },
  {
   "cell_type": "code",
   "execution_count": 29,
   "metadata": {
    "ExecuteTime": {
     "end_time": "2017-11-23T23:50:37.369738Z",
     "start_time": "2017-11-23T23:50:37.355827Z"
    },
    "id": "LXJmFubQHigN"
   },
   "outputs": [],
   "source": [
    "x_train -= x_train.min()\n",
    "x_train /= x_train.max()\n",
    "y_train -= y_train.min()\n",
    "y_train /= y_train.max()\n"
   ]
  },
  {
   "cell_type": "code",
   "execution_count": 30,
   "metadata": {
    "colab": {
     "base_uri": "https://localhost:8080/"
    },
    "id": "nYq87NbdHxZF",
    "outputId": "fdb237a7-66f0-4cfa-f0a6-f93b6c2b0831"
   },
   "outputs": [
    {
     "name": "stdout",
     "output_type": "stream",
     "text": [
      "x_train[:5]:\n",
      " [[1.        ]\n",
      " [0.71428573]\n",
      " [0.952381  ]\n",
      " [0.28571424]\n",
      " [0.7619048 ]]\n",
      "y_train[:5]:\n",
      " [[0.80952376]\n",
      " [0.71428573]\n",
      " [0.90476197]\n",
      " [0.4761905 ]\n",
      " [0.7619048 ]]\n"
     ]
    }
   ],
   "source": [
    "print('x_train[:5]:\\n', x_train[:5])\n",
    "print('y_train[:5]:\\n', y_train[:5])"
   ]
  },
  {
   "cell_type": "code",
   "execution_count": 31,
   "metadata": {
    "ExecuteTime": {
     "end_time": "2017-11-23T23:50:37.381683Z",
     "start_time": "2017-11-23T23:50:37.375245Z"
    },
    "id": "epxtUveAHigP"
   },
   "outputs": [],
   "source": [
    "x_train_bias = np.hstack([np.ones(shape=(n_samples,1)), x_train])"
   ]
  },
  {
   "cell_type": "code",
   "execution_count": 32,
   "metadata": {
    "colab": {
     "base_uri": "https://localhost:8080/"
    },
    "id": "AgObmWFjH5x7",
    "outputId": "5f839d5e-280b-4798-ed7e-baa84dc360e9"
   },
   "outputs": [
    {
     "data": {
      "text/plain": [
       "array([[1.        , 1.        ],\n",
       "       [1.        , 0.71428573],\n",
       "       [1.        , 0.95238101],\n",
       "       [1.        , 0.28571424],\n",
       "       [1.        , 0.76190478],\n",
       "       [1.        , 0.38095227],\n",
       "       [1.        , 0.66666675],\n",
       "       [1.        , 0.        ],\n",
       "       [1.        , 0.80952376],\n",
       "       [1.        , 0.14285702],\n",
       "       [1.        , 0.047619  ],\n",
       "       [1.        , 0.47619051],\n",
       "       [1.        , 0.52380949],\n",
       "       [1.        , 0.57142848],\n",
       "       [1.        , 0.33333325],\n",
       "       [1.        , 0.85714275],\n",
       "       [1.        , 0.33333325],\n",
       "       [1.        , 0.42857149],\n",
       "       [1.        , 0.61904752],\n",
       "       [1.        , 0.33333325],\n",
       "       [1.        , 0.47619051],\n",
       "       [1.        , 0.57142848],\n",
       "       [1.        , 0.66666675],\n",
       "       [1.        , 0.57142848],\n",
       "       [1.        , 0.71428573],\n",
       "       [1.        , 0.80952376],\n",
       "       [1.        , 0.90476197],\n",
       "       [1.        , 0.85714275],\n",
       "       [1.        , 0.52380949],\n",
       "       [1.        , 0.38095227],\n",
       "       [1.        , 0.28571424],\n",
       "       [1.        , 0.28571424],\n",
       "       [1.        , 0.42857149],\n",
       "       [1.        , 0.52380949],\n",
       "       [1.        , 0.23809525],\n",
       "       [1.        , 0.52380949],\n",
       "       [1.        , 0.85714275],\n",
       "       [1.        , 0.66666675],\n",
       "       [1.        , 0.33333325],\n",
       "       [1.        , 0.28571424],\n",
       "       [1.        , 0.28571424],\n",
       "       [1.        , 0.57142848],\n",
       "       [1.        , 0.42857149],\n",
       "       [1.        , 0.047619  ],\n",
       "       [1.        , 0.33333325],\n",
       "       [1.        , 0.38095227],\n",
       "       [1.        , 0.38095227],\n",
       "       [1.        , 0.61904752],\n",
       "       [1.        , 0.09523801],\n",
       "       [1.        , 0.38095227]])"
      ]
     },
     "execution_count": 32,
     "metadata": {},
     "output_type": "execute_result"
    }
   ],
   "source": [
    "x_train_bias"
   ]
  },
  {
   "cell_type": "code",
   "execution_count": 33,
   "metadata": {
    "colab": {
     "base_uri": "https://localhost:8080/"
    },
    "id": "7seVsEbJIHb3",
    "outputId": "a0a40c9d-8843-410a-9d2f-49397e667847"
   },
   "outputs": [
    {
     "name": "stdout",
     "output_type": "stream",
     "text": [
      "x_train_bias.shape: (50, 2) float64\n"
     ]
    }
   ],
   "source": [
    "print('x_train_bias.shape:',x_train_bias.shape, x_train_bias.dtype)"
   ]
  },
  {
   "cell_type": "code",
   "execution_count": 34,
   "metadata": {
    "ExecuteTime": {
     "end_time": "2017-11-23T23:50:37.396626Z",
     "start_time": "2017-11-23T23:50:37.389139Z"
    },
    "colab": {
     "base_uri": "https://localhost:8080/"
    },
    "id": "3Enuu3LxHigR",
    "outputId": "e8d2d93c-dbe5-44a5-ad6d-aad625d02174"
   },
   "outputs": [
    {
     "name": "stdout",
     "output_type": "stream",
     "text": [
      "tensor([[0.8095],\n",
      "        [0.7143],\n",
      "        [0.9048],\n",
      "        [0.4762],\n",
      "        [0.7619],\n",
      "        [0.7143],\n",
      "        [0.8095],\n",
      "        [0.1429],\n",
      "        [0.7619],\n",
      "        [0.4286],\n",
      "        [0.2381],\n",
      "        [0.5714],\n",
      "        [0.4762],\n",
      "        [0.8095],\n",
      "        [0.2857],\n",
      "        [0.6667],\n",
      "        [0.7143],\n",
      "        [0.5238],\n",
      "        [0.7143],\n",
      "        [0.4286],\n",
      "        [0.8571],\n",
      "        [0.4762],\n",
      "        [0.9048],\n",
      "        [0.8095],\n",
      "        [0.6190],\n",
      "        [0.6667],\n",
      "        [0.8571],\n",
      "        [0.9524],\n",
      "        [0.7143],\n",
      "        [0.2381],\n",
      "        [0.3810],\n",
      "        [0.3333],\n",
      "        [0.4286],\n",
      "        [1.0000],\n",
      "        [0.7143],\n",
      "        [0.7143],\n",
      "        [0.8095],\n",
      "        [0.6667],\n",
      "        [0.5238],\n",
      "        [0.4762],\n",
      "        [0.6667],\n",
      "        [0.7619],\n",
      "        [0.4762],\n",
      "        [0.1429],\n",
      "        [0.5714],\n",
      "        [0.5714],\n",
      "        [0.5714],\n",
      "        [0.6190],\n",
      "        [0.0000],\n",
      "        [0.5238]])\n"
     ]
    }
   ],
   "source": [
    "x_train_bias = torch.FloatTensor(x_train_bias)\n",
    "y_train      = torch.FloatTensor(y_train)\n",
    "print(y_train)"
   ]
  },
  {
   "cell_type": "markdown",
   "metadata": {
    "id": "35kUVzdrHigU"
   },
   "source": [
    "## Model"
   ]
  },
  {
   "cell_type": "markdown",
   "metadata": {
    "id": "8nv8uX7uHigU"
   },
   "source": [
    "![alt text](https://raw.githubusercontent.com/vcasadei/images/master/RegressaoLinearNeuronio.png)"
   ]
  },
  {
   "cell_type": "code",
   "execution_count": 35,
   "metadata": {
    "ExecuteTime": {
     "end_time": "2017-11-23T23:50:37.403510Z",
     "start_time": "2017-11-23T23:50:37.399234Z"
    },
    "id": "Ngq9EEi8HigV"
   },
   "outputs": [],
   "source": [
    "#Inicialização usando toch.nn.Linear\n",
    "\n",
    "model = torch.nn.Linear(in_features=2, out_features=1, bias=False)"
   ]
  },
  {
   "cell_type": "code",
   "execution_count": 10,
   "metadata": {
    "colab": {
     "base_uri": "https://localhost:8080/"
    },
    "id": "dLH9gBeUHRey",
    "outputId": "c9934043-6e98-4abd-eaf1-6ab14a6febef"
   },
   "outputs": [
    {
     "data": {
      "text/plain": [
       "Parameter containing:\n",
       "tensor([[-0.6661, -0.1387]], requires_grad=True)"
      ]
     },
     "execution_count": 10,
     "metadata": {},
     "output_type": "execute_result"
    }
   ],
   "source": [
    "model.weight"
   ]
  },
  {
   "cell_type": "markdown",
   "metadata": {
    "id": "fz0E6uU2HigY"
   },
   "source": [
    "### Verificando a inicialização dos parâmetros"
   ]
  },
  {
   "cell_type": "code",
   "execution_count": 36,
   "metadata": {
    "ExecuteTime": {
     "end_time": "2017-11-23T23:50:37.418969Z",
     "start_time": "2017-11-23T23:50:37.409713Z"
    },
    "colab": {
     "base_uri": "https://localhost:8080/"
    },
    "id": "aKnVpTrnHigZ",
    "outputId": "46e6e0c4-bbfe-4d3c-acc1-c6c87298eac8"
   },
   "outputs": [
    {
     "name": "stderr",
     "output_type": "stream",
     "text": [
      "/var/folders/kc/1xwjc0hs5d3fh5nswnpvwlmm0000gn/T/ipykernel_17034/2197199425.py:2: FutureWarning: `nn.init.uniform` is now deprecated in favor of `nn.init.uniform_`.\n",
      "  torch.nn.init.uniform(model.weight.data, -0.1, 0.1)\n"
     ]
    },
    {
     "data": {
      "text/plain": [
       "Parameter containing:\n",
       "tensor([[-0.0896, -0.0064]], requires_grad=True)"
      ]
     },
     "execution_count": 36,
     "metadata": {},
     "output_type": "execute_result"
    }
   ],
   "source": [
    "model.weight.data = torch.zeros(1,2)\n",
    "torch.nn.init.uniform(model.weight.data, -0.1, 0.1)\n",
    "model.weight"
   ]
  },
  {
   "cell_type": "markdown",
   "metadata": {
    "id": "mq22EwyFHigc"
   },
   "source": [
    "### Testando o predict da rede"
   ]
  },
  {
   "cell_type": "code",
   "execution_count": 37,
   "metadata": {
    "ExecuteTime": {
     "end_time": "2017-11-23T23:50:37.497945Z",
     "start_time": "2017-11-23T23:50:37.422209Z"
    },
    "colab": {
     "base_uri": "https://localhost:8080/"
    },
    "id": "dyCO8PL_Hige",
    "outputId": "726a5c31-87ad-4a55-d1ef-935036f6bcb6"
   },
   "outputs": [
    {
     "data": {
      "text/plain": [
       "tensor([[1., 1.],\n",
       "        [1., 1.],\n",
       "        [1., 1.],\n",
       "        [1., 1.],\n",
       "        [1., 1.]])"
      ]
     },
     "execution_count": 37,
     "metadata": {},
     "output_type": "execute_result"
    }
   ],
   "source": [
    "xx = torch.ones((5,2))\n",
    "xx"
   ]
  },
  {
   "cell_type": "code",
   "execution_count": 38,
   "metadata": {
    "colab": {
     "base_uri": "https://localhost:8080/"
    },
    "id": "kpxZmYMsJF7F",
    "outputId": "3d4b8980-0fd9-40b9-bed3-c838240c3c74"
   },
   "outputs": [
    {
     "data": {
      "text/plain": [
       "tensor([[-0.0960],\n",
       "        [-0.0960],\n",
       "        [-0.0960],\n",
       "        [-0.0960],\n",
       "        [-0.0960]], grad_fn=<MmBackward0>)"
      ]
     },
     "execution_count": 38,
     "metadata": {},
     "output_type": "execute_result"
    }
   ],
   "source": [
    "model(Variable(xx))"
   ]
  },
  {
   "cell_type": "markdown",
   "metadata": {
    "id": "llozQQShHigg"
   },
   "source": [
    "## Treinamento"
   ]
  },
  {
   "cell_type": "code",
   "execution_count": 39,
   "metadata": {
    "colab": {
     "base_uri": "https://localhost:8080/"
    },
    "id": "MxDm-3NTKYOe",
    "outputId": "23af2728-ff10-4686-91b2-17929296fa14"
   },
   "outputs": [
    {
     "data": {
      "text/plain": [
       "tensor(-0.0064)"
      ]
     },
     "execution_count": 39,
     "metadata": {},
     "output_type": "execute_result"
    }
   ],
   "source": [
    "model.weight.data[0][1]"
   ]
  },
  {
   "cell_type": "code",
   "execution_count": 40,
   "metadata": {
    "ExecuteTime": {
     "end_time": "2017-11-23T23:50:37.534983Z",
     "start_time": "2017-11-23T23:50:37.501215Z"
    },
    "colab": {
     "base_uri": "https://localhost:8080/"
    },
    "id": "GEY2W_eaHigh",
    "outputId": "c5a35ec9-1bbd-4668-c53b-0200538a1870",
    "scrolled": false
   },
   "outputs": [
    {
     "name": "stdout",
     "output_type": "stream",
     "text": [
      "Epoch[20/100], loss: 0.022719\n",
      "Epoch[40/100], loss: 0.021394\n",
      "Epoch[60/100], loss: 0.021202\n",
      "Epoch[80/100], loss: 0.021174\n",
      "Epoch[100/100], loss: 0.021170\n"
     ]
    }
   ],
   "source": [
    "num_epochs = 100\n",
    "learning_rate = 0.5\n",
    "w0_list = []\n",
    "w1_list = []\n",
    "w0_list.append(model.weight.data[0][0])\n",
    "w1_list.append(model.weight.data[0][1])\n",
    "for epoch in range(num_epochs):\n",
    "    inputs = Variable(x_train_bias)\n",
    "    target = Variable(y_train)\n",
    "\n",
    "    # forward - predict\n",
    "    y_pred = model(x_train_bias)\n",
    "\n",
    "    #loss cálculo da função de perda\n",
    "    loss = torch.mean((y_pred - y_train)**2)\n",
    "\n",
    "    # backward propagation - cálculo gradient\n",
    "    loss.backward()\n",
    "\n",
    "    # gradiente descendente\n",
    "    model.weight.data = model.weight.data - learning_rate * model.weight.grad.data\n",
    "    w0_list.append(model.weight.data[0][0])\n",
    "    w1_list.append(model.weight.data[0][1])\n",
    "\n",
    "    # zeragem parâmetros próximo cálculo do gradiente\n",
    "    model.weight.grad.data.zero_()\n",
    "\n",
    "    # verbose\n",
    "    if (epoch+1) % 20 == 0:\n",
    "        print('Epoch[{}/{}], loss: {:.6f}'\n",
    "              .format(epoch+1, num_epochs, loss.data))"
   ]
  },
  {
   "cell_type": "code",
   "execution_count": 41,
   "metadata": {
    "colab": {
     "base_uri": "https://localhost:8080/"
    },
    "id": "urWwtlmyKp-v",
    "outputId": "a413de1b-11c2-408c-ff46-bd435db724f5"
   },
   "outputs": [
    {
     "name": "stdout",
     "output_type": "stream",
     "text": [
      "[tensor(-0.0896), tensor(0.6031), tensor(0.4143), tensor(0.4512), tensor(0.4310), tensor(0.4259), tensor(0.4174), tensor(0.4102), tensor(0.4031), tensor(0.3965), tensor(0.3901), tensor(0.3840), tensor(0.3782), tensor(0.3727), tensor(0.3675), tensor(0.3625), tensor(0.3577), tensor(0.3531), tensor(0.3488), tensor(0.3447), tensor(0.3408), tensor(0.3370), tensor(0.3334), tensor(0.3300), tensor(0.3268), tensor(0.3237), tensor(0.3208), tensor(0.3180), tensor(0.3153), tensor(0.3128), tensor(0.3103), tensor(0.3080), tensor(0.3058), tensor(0.3037), tensor(0.3017), tensor(0.2998), tensor(0.2980), tensor(0.2963), tensor(0.2946), tensor(0.2931), tensor(0.2916), tensor(0.2901), tensor(0.2888), tensor(0.2875), tensor(0.2863), tensor(0.2851), tensor(0.2840), tensor(0.2829), tensor(0.2819), tensor(0.2809), tensor(0.2800), tensor(0.2791), tensor(0.2783), tensor(0.2775), tensor(0.2767), tensor(0.2760), tensor(0.2753), tensor(0.2746), tensor(0.2740), tensor(0.2734), tensor(0.2728), tensor(0.2723), tensor(0.2718), tensor(0.2713), tensor(0.2708), tensor(0.2704), tensor(0.2699), tensor(0.2695), tensor(0.2692), tensor(0.2688), tensor(0.2684), tensor(0.2681), tensor(0.2678), tensor(0.2675), tensor(0.2672), tensor(0.2669), tensor(0.2667), tensor(0.2664), tensor(0.2662), tensor(0.2659), tensor(0.2657), tensor(0.2655), tensor(0.2653), tensor(0.2651), tensor(0.2649), tensor(0.2648), tensor(0.2646), tensor(0.2645), tensor(0.2643), tensor(0.2642), tensor(0.2640), tensor(0.2639), tensor(0.2638), tensor(0.2637), tensor(0.2636), tensor(0.2635), tensor(0.2634), tensor(0.2633), tensor(0.2632), tensor(0.2631), tensor(0.2630)]\n"
     ]
    }
   ],
   "source": [
    "print(w0_list)"
   ]
  },
  {
   "cell_type": "markdown",
   "metadata": {
    "heading_collapsed": true,
    "id": "OyUB8WAmHigk"
   },
   "source": [
    "## Avaliação"
   ]
  },
  {
   "cell_type": "code",
   "execution_count": 42,
   "metadata": {
    "ExecuteTime": {
     "end_time": "2017-11-23T23:50:37.785652Z",
     "start_time": "2017-11-23T23:50:37.538639Z"
    },
    "colab": {
     "base_uri": "https://localhost:8080/",
     "height": 430
    },
    "hidden": true,
    "id": "9ire-2nCHigl",
    "outputId": "b6688cfa-7cd2-46f2-9b11-5c9c707a9c47"
   },
   "outputs": [
    {
     "data": {
      "image/png": "[encoded data removed]",
      "text/plain": [
       "<Figure size 640x480 with 1 Axes>"
      ]
     },
     "metadata": {},
     "output_type": "display_data"
    }
   ],
   "source": [
    "y_pred = model(Variable(x_train_bias))\n",
    "plt.plot(x_train, y_train.numpy(), 'ro', label='Original data')\n",
    "plt.plot(x_train, y_pred.data.numpy(), 'kx-', label='Fitting Line')\n",
    "plt.show()"
   ]
  },
  {
   "cell_type": "markdown",
   "metadata": {
    "hidden": true,
    "id": "-jQncN7PHigp"
   },
   "source": [
    "### Acessando os parâmetros"
   ]
  },
  {
   "cell_type": "code",
   "execution_count": 43,
   "metadata": {
    "ExecuteTime": {
     "end_time": "2017-11-23T23:50:37.797767Z",
     "start_time": "2017-11-23T23:50:37.787839Z"
    },
    "colab": {
     "base_uri": "https://localhost:8080/"
    },
    "hidden": true,
    "id": "byxPWYlFHigq",
    "outputId": "493bc9e7-5981-4b39-8b04-f1dbeeb110e2"
   },
   "outputs": [
    {
     "data": {
      "text/plain": [
       "OrderedDict([('weight', tensor([[0.2630, 0.6833]]))])"
      ]
     },
     "execution_count": 43,
     "metadata": {},
     "output_type": "execute_result"
    }
   ],
   "source": [
    "w_dic = model.state_dict()\n",
    "w_dic"
   ]
  },
  {
   "cell_type": "markdown",
   "metadata": {
    "hidden": true,
    "id": "mGK_1QtNHigw"
   },
   "source": [
    "### Parâmetros ótimos, solução analítica"
   ]
  },
  {
   "cell_type": "code",
   "execution_count": 44,
   "metadata": {
    "ExecuteTime": {
     "end_time": "2017-11-23T23:50:37.809980Z",
     "start_time": "2017-11-23T23:50:37.800833Z"
    },
    "colab": {
     "base_uri": "https://localhost:8080/"
    },
    "hidden": true,
    "id": "5jrFm0pXHigx",
    "outputId": "6733bc36-cb54-4c50-d288-d4c56bdd82f9"
   },
   "outputs": [
    {
     "name": "stdout",
     "output_type": "stream",
     "text": [
      "tensor([[0.2613, 0.6865]])\n"
     ]
    }
   ],
   "source": [
    "x_bias = x_train_bias\n",
    "y = y_train\n",
    "x_bias_t = torch.t(x_bias)\n",
    "w_opt = (torch.inverse(x_bias_t.mm(x_bias)).mm(x_bias_t)).mm(y)\n",
    "print(torch.t(w_opt))"
   ]
  },
  {
   "cell_type": "markdown",
   "metadata": {
    "collapsed": true,
    "heading_collapsed": true,
    "id": "AmTLHbBcHig3"
   },
   "source": [
    "# Exercícios"
   ]
  },
  {
   "cell_type": "markdown",
   "metadata": {
    "hidden": true,
    "id": "0826M7y0Hig5"
   },
   "source": [
    "- 1) Por que no final da varredura do laço de treinamento, a perda é impressa utilizando\n",
    "   `loss.data`? Por que precisa do `data`?\n",
    "\n",
    "Resposta: Precisamos do `data` para acessar o valor da perda porque `loss` é um objeto que possui todas as informações do grado computacional. como queremos somente os valores das perdas, precisamos acessar os valores com `loss.data`.\n",
    "   "
   ]
  },
  {
   "cell_type": "markdown",
   "metadata": {
    "hidden": true,
    "id": "cUhiv-56Hig5"
   },
   "source": [
    "- 2) Calcule e imprima o valor da perda (MSE) fazendo o predict da rede com os pesos já\n",
    "   treinados."
   ]
  },
  {
   "cell_type": "code",
   "execution_count": 45,
   "metadata": {},
   "outputs": [
    {
     "name": "stdout",
     "output_type": "stream",
     "text": [
      "Erro Quadrático Médio (MSE) após o treinamento: 0.021170\n"
     ]
    }
   ],
   "source": [
    "y_pred = model(x_train_bias)\n",
    "\n",
    "mse_loss = torch.mean((y_pred - y_train)**2)\n",
    "\n",
    "print(f'Erro Quadrático Médio (MSE) após o treinamento: {mse_loss.data:.6f}')"
   ]
  },
  {
   "cell_type": "markdown",
   "metadata": {
    "hidden": true,
    "id": "pwrS4OGkHig7"
   },
   "source": [
    "- 3) Crie duas listas `w0_list` e `w1_list` para guardar a evolução dos valores dos\n",
    "   parâmetros durante o laço de treinamento.\n",
    "   Modifique o exemplo do gráfico tipo **scatter plot** para visualizar a variação\n",
    "   dos parâmetros do modelo duas dimensões.\n",
    "   Marque neste gráfico o valor ótimo do parâmetro dado pela solução\n",
    "   analítica."
   ]
  },
  {
   "cell_type": "code",
   "execution_count": 46,
   "metadata": {},
   "outputs": [
    {
     "data": {
      "image/png": "[encoded data removed]",
      "text/plain": [
       "<Figure size 1000x600 with 1 Axes>"
      ]
     },
     "metadata": {},
     "output_type": "display_data"
    }
   ],
   "source": [
    "plt.figure(figsize=(10, 6))\n",
    "\n",
    "# Plotando os pontos da evolução dos parâmetros\n",
    "plt.scatter(w0_list, w1_list, c='blue', alpha=0.5, label='Evolução dos parâmetros')\n",
    "\n",
    "# Adicionando as setas para mostrar a direção da evolução\n",
    "w0_old = None\n",
    "w1_old = None\n",
    "for (w0, w1) in zip(w0_list, w1_list):\n",
    "    if w0_old is not None:\n",
    "        plt.arrow(w0_old, w1_old, w0-w0_old, w1-w1_old,\n",
    "                 head_length=0.01, head_width=0.01,\n",
    "                 shape='full', length_includes_head=True,\n",
    "                 fc='blue', ec='blue', alpha=0.3)\n",
    "    w0_old, w1_old = w0, w1\n",
    "\n",
    "# Plotando o ponto ótimo da solução analítica\n",
    "w_opt_0 = torch.t(w_opt)[0][0].item()  # Primeiro parâmetro da solução analítica\n",
    "w_opt_1 = torch.t(w_opt)[0][1].item()  # Segundo parâmetro da solução analítica\n",
    "plt.scatter(w_opt_0, w_opt_1, c='red', marker='*', s=200, label='Solução ótima analítica')\n",
    "\n",
    "# Configurações do gráfico\n",
    "plt.xlabel('w0 (bias)')\n",
    "plt.ylabel('w1 (peso)')\n",
    "plt.title('Evolução dos Parâmetros Durante o Treinamento')\n",
    "plt.legend()\n",
    "plt.grid(True, alpha=0.3)\n",
    "\n",
    "plt.show()"
   ]
  },
  {
   "cell_type": "markdown",
   "metadata": {
    "hidden": true,
    "id": "9zKM4-2UHig7"
   },
   "source": [
    "## Ploting vectors"
   ]
  },
  {
   "cell_type": "markdown",
   "metadata": {
    "heading_collapsed": true,
    "id": "ssef368KHihA"
   },
   "source": [
    "# Aprendizados"
   ]
  },
  {
   "cell_type": "code",
   "execution_count": null,
   "metadata": {
    "hidden": true,
    "id": "CrrRGo2CHihA"
   },
   "outputs": [],
   "source": []
  }
 ],
 "metadata": {
  "accelerator": "TPU",
  "colab": {
   "gpuType": "V28",
   "provenance": []
  },
  "kernelspec": {
   "display_name": "Python 3",
   "language": "python",
   "name": "python3"
  },
  "language_info": {
   "codemirror_mode": {
    "name": "ipython",
    "version": 3
   },
   "file_extension": ".py",
   "mimetype": "text/x-python",
   "name": "python",
   "nbconvert_exporter": "python",
   "pygments_lexer": "ipython3",
   "version": "3.11.10"
  }
 },
 "nbformat": 4,
 "nbformat_minor": 0
}
