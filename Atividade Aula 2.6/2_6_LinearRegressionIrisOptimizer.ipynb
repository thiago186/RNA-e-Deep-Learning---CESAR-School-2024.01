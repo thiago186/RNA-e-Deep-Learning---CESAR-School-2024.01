{
 "cells": [
  {
   "cell_type": "markdown",
   "metadata": {
    "id": "oybr0ygpH3at"
   },
   "source": [
    "# Regressão Linear com PyTorch"
   ]
  },
  {
   "cell_type": "markdown",
   "metadata": {
    "id": "4AZBwvGWH3au"
   },
   "source": [
    "## Objetivos"
   ]
  },
  {
   "cell_type": "markdown",
   "metadata": {
    "id": "PesKBcQYH3av"
   },
   "source": [
    "Este exemplo utiliza regressão linear para estimar o comprimento das sépalas da íris a partir do seu comprimento das pétalas.\n",
    "Utiliza-se:\n",
    "- a função de perda MSE do PyTorch,\n",
    "- treinamento dos parâmetros via gradiente descendente usando o otimizador.\n",
    "- A rede é criada com uma camada nn.Linear()"
   ]
  },
  {
   "cell_type": "markdown",
   "metadata": {
    "id": "rPwFmfTpH3ax"
   },
   "source": [
    "## Importação dos pacotes"
   ]
  },
  {
   "cell_type": "code",
   "execution_count": 1,
   "metadata": {
    "ExecuteTime": {
     "end_time": "2017-10-08T11:23:37.927166Z",
     "start_time": "2017-10-08T11:23:36.900382Z"
    },
    "colab": {
     "base_uri": "https://localhost:8080/"
    },
    "id": "EJa19XZsH3ax",
    "outputId": "ddcd6a1d-e0ff-4a6b-d56d-bf4d19e4505b"
   },
   "outputs": [
    {
     "data": {
      "text/plain": [
       "<torch._C.Generator at 0x133c9d3d0>"
      ]
     },
     "execution_count": 1,
     "metadata": {},
     "output_type": "execute_result"
    }
   ],
   "source": [
    "%matplotlib inline\n",
    "import torch\n",
    "from torch import nn, optim\n",
    "from torch.autograd import Variable\n",
    "import numpy as np\n",
    "import matplotlib.pyplot as plt\n",
    "from sklearn.datasets import load_iris\n",
    "\n",
    "torch.manual_seed(1234)"
   ]
  },
  {
   "cell_type": "markdown",
   "metadata": {
    "id": "zkVqshBgH3a3"
   },
   "source": [
    "## Leitura dos dados"
   ]
  },
  {
   "cell_type": "code",
   "execution_count": 2,
   "metadata": {
    "ExecuteTime": {
     "end_time": "2017-10-08T11:23:37.946805Z",
     "start_time": "2017-10-08T11:23:37.929142Z"
    },
    "colab": {
     "base_uri": "https://localhost:8080/"
    },
    "id": "FNRdrYnrH3a4",
    "outputId": "d3cacfa0-4cdf-4950-9340-70d5669775b5"
   },
   "outputs": [
    {
     "name": "stdout",
     "output_type": "stream",
     "text": [
      "x_train.shape: (50, 1) float32\n",
      "y_train.shape: (50, 1) float32\n",
      "x_train[:5]:\n",
      " [[7. ]\n",
      " [6.4]\n",
      " [6.9]\n",
      " [5.5]\n",
      " [6.5]]\n",
      "y_train[:5]:\n",
      " [[4.7]\n",
      " [4.5]\n",
      " [4.9]\n",
      " [4. ]\n",
      " [4.6]]\n"
     ]
    }
   ],
   "source": [
    "iris = load_iris()\n",
    "data = iris.data[iris.target==1,::2]  # comprimento das sépalas e pétalas, indices 0 e 2\n",
    "\n",
    "x_train = data[:,0:1].astype(np.float32)\n",
    "y_train = data[:,1:2].astype(np.float32)\n",
    "\n",
    "n_samples = x_train.shape[0]\n",
    "print('x_train.shape:',x_train.shape, x_train.dtype)\n",
    "print('y_train.shape:',y_train.shape, y_train.dtype)\n",
    "\n",
    "print('x_train[:5]:\\n', x_train[:5])\n",
    "print('y_train[:5]:\\n', y_train[:5])"
   ]
  },
  {
   "cell_type": "markdown",
   "metadata": {
    "id": "CI2oB--zH3a7"
   },
   "source": [
    "### Normalização dos dados"
   ]
  },
  {
   "cell_type": "code",
   "execution_count": 3,
   "metadata": {
    "ExecuteTime": {
     "end_time": "2017-10-08T11:23:37.956211Z",
     "start_time": "2017-10-08T11:23:37.949927Z"
    },
    "id": "VwvLO3hIH3a9"
   },
   "outputs": [],
   "source": [
    "x_train -= x_train.min()\n",
    "x_train /= x_train.max()\n",
    "y_train -= y_train.min()\n",
    "y_train /= y_train.max()\n"
   ]
  },
  {
   "cell_type": "code",
   "execution_count": 4,
   "metadata": {
    "ExecuteTime": {
     "end_time": "2017-10-08T11:23:37.963170Z",
     "start_time": "2017-10-08T11:23:37.958475Z"
    },
    "id": "lKjd3VQNH3a-"
   },
   "outputs": [],
   "source": [
    "x_train_bias = np.hstack([np.ones(shape=(n_samples,1)), x_train])"
   ]
  },
  {
   "cell_type": "code",
   "execution_count": 5,
   "metadata": {
    "ExecuteTime": {
     "end_time": "2017-10-08T11:23:37.970031Z",
     "start_time": "2017-10-08T11:23:37.965786Z"
    },
    "id": "R2gg3Z8zH3bB"
   },
   "outputs": [],
   "source": [
    "x_train_bias = torch.FloatTensor(x_train_bias)\n",
    "y_train      = torch.FloatTensor(y_train)"
   ]
  },
  {
   "cell_type": "markdown",
   "metadata": {
    "id": "Zj_4-yzuH3bE"
   },
   "source": [
    "## Criação do modelo da rede"
   ]
  },
  {
   "cell_type": "code",
   "execution_count": 6,
   "metadata": {
    "ExecuteTime": {
     "end_time": "2017-10-08T11:23:37.978113Z",
     "start_time": "2017-10-08T11:23:37.972879Z"
    },
    "id": "AxkP2_ojH3bE"
   },
   "outputs": [],
   "source": [
    "model = torch.nn.Linear(2, 1, bias=False)"
   ]
  },
  {
   "cell_type": "markdown",
   "metadata": {
    "id": "G4azDkxbH3bI"
   },
   "source": [
    "### Verificando a inicialização dos parâmetros"
   ]
  },
  {
   "cell_type": "code",
   "execution_count": 7,
   "metadata": {
    "ExecuteTime": {
     "end_time": "2017-10-08T11:23:37.989441Z",
     "start_time": "2017-10-08T11:23:37.980969Z"
    },
    "colab": {
     "base_uri": "https://localhost:8080/"
    },
    "id": "hihjBHEFH3bJ",
    "outputId": "22a2ba65-25ee-47d7-fff7-4b7aab44694b"
   },
   "outputs": [
    {
     "name": "stderr",
     "output_type": "stream",
     "text": [
      "/var/folders/kc/1xwjc0hs5d3fh5nswnpvwlmm0000gn/T/ipykernel_20049/1486225639.py:2: FutureWarning: `nn.init.uniform` is now deprecated in favor of `nn.init.uniform_`.\n",
      "  torch.nn.init.uniform(model.weight.data, -0.1, 0.1)\n"
     ]
    },
    {
     "data": {
      "text/plain": [
       "tensor([[-0.0480, -0.0267]])"
      ]
     },
     "execution_count": 7,
     "metadata": {},
     "output_type": "execute_result"
    }
   ],
   "source": [
    "model.weight.data = torch.zeros(1,2)\n",
    "torch.nn.init.uniform(model.weight.data, -0.1, 0.1)\n",
    "model.weight.data"
   ]
  },
  {
   "cell_type": "markdown",
   "metadata": {
    "id": "plBKu2guH3bM"
   },
   "source": [
    "### Testando o predict da rede"
   ]
  },
  {
   "cell_type": "code",
   "execution_count": 8,
   "metadata": {
    "ExecuteTime": {
     "end_time": "2017-10-08T11:23:38.041043Z",
     "start_time": "2017-10-08T11:23:37.992008Z"
    },
    "colab": {
     "base_uri": "https://localhost:8080/"
    },
    "id": "o9X_PZ8jH3bM",
    "outputId": "3b353a12-0cff-4cbc-d203-6f53697af7b6"
   },
   "outputs": [
    {
     "data": {
      "text/plain": [
       "tensor([[-0.0747],\n",
       "        [-0.0747],\n",
       "        [-0.0747],\n",
       "        [-0.0747],\n",
       "        [-0.0747]], grad_fn=<MmBackward0>)"
      ]
     },
     "execution_count": 8,
     "metadata": {},
     "output_type": "execute_result"
    }
   ],
   "source": [
    "model(Variable(torch.ones((5,2))))"
   ]
  },
  {
   "cell_type": "markdown",
   "metadata": {
    "id": "NDVeAyDCH3bQ"
   },
   "source": [
    "## Treinamento"
   ]
  },
  {
   "cell_type": "markdown",
   "metadata": {
    "id": "8p4jG3kqH3bR"
   },
   "source": [
    "### Definindo função de perda e otimizador"
   ]
  },
  {
   "cell_type": "code",
   "execution_count": 9,
   "metadata": {
    "ExecuteTime": {
     "end_time": "2017-10-08T11:23:38.049936Z",
     "start_time": "2017-10-08T11:23:38.043559Z"
    },
    "id": "yzC5JAvtH3bR"
   },
   "outputs": [],
   "source": [
    "criterion = nn.MSELoss()\n",
    "optimizer = optim.SGD(model.parameters(), lr=0.5)"
   ]
  },
  {
   "cell_type": "markdown",
   "metadata": {
    "id": "JJe4KvCdH3bV"
   },
   "source": [
    "### Laço de treinamento"
   ]
  },
  {
   "cell_type": "code",
   "execution_count": 10,
   "metadata": {
    "ExecuteTime": {
     "end_time": "2017-10-08T11:23:38.128839Z",
     "start_time": "2017-10-08T11:23:38.053061Z"
    },
    "colab": {
     "base_uri": "https://localhost:8080/"
    },
    "id": "P_icCuI9H3bW",
    "outputId": "bd75d804-f936-48ea-c637-40c57b7650d5",
    "scrolled": false
   },
   "outputs": [
    {
     "name": "stdout",
     "output_type": "stream",
     "text": [
      "Epoch[20/200], loss: 0.022983\n",
      "Epoch[40/200], loss: 0.021432\n",
      "Epoch[60/200], loss: 0.021207\n",
      "Epoch[80/200], loss: 0.021175\n",
      "Epoch[100/200], loss: 0.021170\n",
      "Epoch[120/200], loss: 0.021170\n",
      "Epoch[140/200], loss: 0.021169\n",
      "Epoch[160/200], loss: 0.021169\n",
      "Epoch[180/200], loss: 0.021169\n",
      "Epoch[200/200], loss: 0.021169\n"
     ]
    }
   ],
   "source": [
    "num_epochs = 200\n",
    "best_epoch_weight = None\n",
    "best_epoch_number = 0\n",
    "best_epoch_loss = criterion(model(Variable(x_train_bias)), Variable(y_train))\n",
    "w0_list = []\n",
    "w1_list = []\n",
    "for epoch in range(num_epochs):\n",
    "    inputs = Variable(x_train_bias)\n",
    "    target = Variable(y_train)\n",
    "\n",
    "    # forward - predict\n",
    "    out = model(inputs)\n",
    "\n",
    "    w0_list.append(model.weight.data[0][0].item())\n",
    "    w1_list.append(model.weight.data[0][1].item())\n",
    "\n",
    "    #loss cálculo da função de perda\n",
    "    loss = criterion(out, target)\n",
    "\n",
    "    # backward e otimizador\n",
    "    optimizer.zero_grad()\n",
    "    loss.backward()\n",
    "    optimizer.step()\n",
    "\n",
    "    if (loss < best_epoch_loss):\n",
    "        best_epoch_loss = loss\n",
    "        best_epoch_weight = model.state_dict()\n",
    "        best_epoch_number = epoch + 1\n",
    "\n",
    "    # verbose\n",
    "    if (epoch+1) % 20 == 0:\n",
    "        print('Epoch[{}/{}], loss: {:.6f}'\n",
    "              .format(epoch+1, num_epochs, loss.data))"
   ]
  },
  {
   "cell_type": "code",
   "execution_count": 11,
   "metadata": {
    "colab": {
     "base_uri": "https://localhost:8080/"
    },
    "id": "vzycm2W3Ru9D",
    "outputId": "789a18f5-d941-4e0a-ca4c-01ba7a638e40"
   },
   "outputs": [
    {
     "name": "stdout",
     "output_type": "stream",
     "text": [
      "177\n",
      "tensor(0.0212, grad_fn=<MseLossBackward0>)\n",
      "OrderedDict([('weight', tensor([[0.2614, 0.6864]]))])\n"
     ]
    }
   ],
   "source": [
    "print(best_epoch_number)\n",
    "print(best_epoch_loss)\n",
    "print(best_epoch_weight)\n"
   ]
  },
  {
   "cell_type": "markdown",
   "metadata": {
    "id": "krvBJhZIH3bd"
   },
   "source": [
    "## Avaliação"
   ]
  },
  {
   "cell_type": "code",
   "execution_count": 12,
   "metadata": {
    "ExecuteTime": {
     "end_time": "2017-10-08T11:23:38.343311Z",
     "start_time": "2017-10-08T11:23:38.131051Z"
    },
    "colab": {
     "base_uri": "https://localhost:8080/",
     "height": 430
    },
    "id": "ImMHVPKMH3bf",
    "outputId": "d4169b11-4b5f-4e32-cd5e-8953c60a5c82"
   },
   "outputs": [
    {
     "data": {
      "image/png": "[encoded data removed]",
      "text/plain": [
       "<Figure size 640x480 with 1 Axes>"
      ]
     },
     "metadata": {},
     "output_type": "display_data"
    }
   ],
   "source": [
    "y_pred = model(Variable(x_train_bias))\n",
    "plt.plot(x_train, y_train.numpy(), 'ro', label='Original data')\n",
    "plt.plot(x_train, y_pred.data.numpy(), 'kx-', label='Fitting Line')\n",
    "plt.show()"
   ]
  },
  {
   "cell_type": "markdown",
   "metadata": {
    "collapsed": true,
    "id": "bStL-pkSH3bt"
   },
   "source": [
    "# Exercícios"
   ]
  },
  {
   "cell_type": "markdown",
   "metadata": {
    "id": "_nMQjjzmH3bt"
   },
   "source": [
    "- 1) Calcule o valor da função de custo (MSE) depois da rede treinada, utilizando a\n",
    "   função `criterion` utilizada no laço de treinamento."
   ]
  },
  {
   "cell_type": "code",
   "execution_count": 14,
   "metadata": {},
   "outputs": [
    {
     "name": "stdout",
     "output_type": "stream",
     "text": [
      "Valor do MSE após o treinamento: 0.021169424057006836\n"
     ]
    }
   ],
   "source": [
    "y_pred = model(Variable(x_train_bias))\n",
    "\n",
    "loss = criterion(y_pred, Variable(y_train))\n",
    "\n",
    "print('Valor do MSE após o treinamento:', loss.data.item())"
   ]
  },
  {
   "cell_type": "markdown",
   "metadata": {
    "id": "DiOnFTWaDYpW"
   },
   "source": [
    "<details>\n",
    "<summary>Mostrar Resultado</summary>\n",
    "\n",
    "```python\n",
    "y_pred = model(Variable(x_train_bias))\n",
    "loss = criterion(y_pred, Variable(y_train))\n",
    "print(loss)\n",
    "```\n",
    "\n",
    "</details>"
   ]
  },
  {
   "cell_type": "markdown",
   "metadata": {
    "id": "xovYuu6-H3bu"
   },
   "source": [
    "- 2) Faça igual o exercício do notebook anterior, de plotar um gráfico scatterplot para\n",
    "   mostrar a evolução dos parâmetros durante o treinamento pelo gradiente descendente."
   ]
  },
  {
   "cell_type": "code",
   "execution_count": 17,
   "metadata": {
    "id": "tpXoJNmWCthR"
   },
   "outputs": [
    {
     "data": {
      "image/png": "[encoded data removed]",
      "text/plain": [
       "<Figure size 640x480 with 1 Axes>"
      ]
     },
     "metadata": {},
     "output_type": "display_data"
    }
   ],
   "source": [
    "import matplotlib.pyplot as plt\n",
    "\n",
    "plt.scatter(w0_list, w1_list, c='blue', alpha=0.5, label='Evolução dos parâmetros')\n",
    "w0_old, w1_old = None, None\n",
    "for (w0, w1) in zip(w0_list, w1_list):\n",
    "    if w0_old is not None:\n",
    "        plt.arrow(w0_old, w1_old, w0-w0_old, w1-w1_old,\n",
    "                 head_length=0.01, head_width=0.01,\n",
    "                 shape='full', length_includes_head=True,\n",
    "                 fc='blue', ec='blue', alpha=0.3)\n",
    "    w0_old, w1_old = w0, w1\n",
    "\n",
    "plt.xlabel('w0 (bias)')\n",
    "plt.ylabel('w1 (peso)')\n",
    "plt.title('Evolução dos Parâmetros Durante o Treinamento')\n",
    "plt.legend()\n",
    "plt.grid(True, alpha=0.3)\n",
    "\n",
    "plt.show()"
   ]
  },
  {
   "cell_type": "markdown",
   "metadata": {
    "id": "aCpMAKMnDYpW"
   },
   "source": [
    "<details>\n",
    "<summary>Mostrar Resultado</summary>\n",
    "\n",
    "```python\n",
    "plt.scatter(w0_list,w1_list)\n",
    "w0_old = None\n",
    "for (w0,w1) in zip(w0_list,w1_list):\n",
    "    if w0_old:\n",
    "        plt.arrow(w0_old, w1_old, w0-w0_old, w1-w1_old,\n",
    "                  head_length=0.01,head_width=0.01,shape='full',\n",
    "                  length_includes_head=True)\n",
    "    w0_old,w1_old = w0,w1\n",
    "```\n",
    "\n",
    "</details>"
   ]
  },
  {
   "cell_type": "markdown",
   "metadata": {
    "id": "P_si86jRH3bw"
   },
   "source": [
    "# Aprendizados"
   ]
  },
  {
   "cell_type": "markdown",
   "metadata": {
    "collapsed": true,
    "id": "rrRR4zs3H3bx"
   },
   "source": []
  }
 ],
 "metadata": {
  "colab": {
   "provenance": []
  },
  "kernelspec": {
   "display_name": "Python 3",
   "language": "python",
   "name": "python3"
  },
  "language_info": {
   "codemirror_mode": {
    "name": "ipython",
    "version": 3
   },
   "file_extension": ".py",
   "mimetype": "text/x-python",
   "name": "python",
   "nbconvert_exporter": "python",
   "pygments_lexer": "ipython3",
   "version": "3.11.10"
  }
 },
 "nbformat": 4,
 "nbformat_minor": 0
}
